{
 "cells": [
  {
   "cell_type": "markdown",
   "id": "2d91be21",
   "metadata": {},
   "source": [
    "---\n",
    "### **Welcome to the [Stock / Portfolio Required Return Analysis Notebook (Part 1)]!**  \n",
    "This is part [1] of a 3-part series. If you haven't already, please start with the [`data_cleaning_formatting.ipynb`](https://github.com/andylhyl/FinModelPortfolioSimulator/blob/main/data_cleaning_formatting.ipynb) notebook to understand the data preprocessing steps.\n",
    "\n",
    "---"
   ]
  },
  {
   "cell_type": "markdown",
   "id": "b0d8ae5c",
   "metadata": {},
   "source": [
    "# Stock / Portfolio Required Return Analysis Notebook (Part 1)\n",
    ".Building on the previous notebooks, this notebook dives into the simulation of financial models. The core objectives are:\n",
    "- Evaluating stock performance using various financial models.\n",
    "- Comparing predicted returns across different models.\n",
    "- Analyzing how each model interprets stock data and market conditions.\n",
    "\n",
    "Let's get s by setting up the environment and importing the necessary data."
   ]
  },
  {
   "cell_type": "markdown",
   "id": "211c1828",
   "metadata": {},
   "source": [
    "### Library Imports and Initial Setup\n",
    "\n",
    "Import all required libraries and establish initial data for data analysis and visualization."
   ]
  },
  {
   "cell_type": "code",
   "execution_count": 1,
   "id": "faf9641f",
   "metadata": {},
   "outputs": [],
   "source": [
    "import requests\n",
    "import time\n",
    "import pandas as pd\n",
    "import numpy as np\n",
    "import matplotlib.pyplot as plt\n",
    "import seaborn as sns\n",
    "import statsmodels.formula.api as smf\n",
    "import scipy.optimize as sco"
   ]
  },
  {
   "cell_type": "code",
   "execution_count": 2,
   "id": "e7fb5685",
   "metadata": {},
   "outputs": [],
   "source": [
    "import warnings\n",
    "warnings.filterwarnings('ignore')"
   ]
  },
  {
   "cell_type": "code",
   "execution_count": 3,
   "id": "140923f3",
   "metadata": {},
   "outputs": [],
   "source": [
    "from project_functions import get_beta "
   ]
  },
  {
   "cell_type": "code",
   "execution_count": 4,
   "id": "a85f8966",
   "metadata": {
    "scrolled": false
   },
   "outputs": [
    {
     "name": "stdout",
     "output_type": "stream",
     "text": [
      "Enter 'short' or 'long' for the time interval you want to analyse data for(or press Enter to use the default): \n",
      "You have selected: short\n",
      "Enter the stock ticker for stock (or press Enter to use the default) 1: \n",
      "you have choosed the default stock list\n",
      "You have choosed the following stock tickers: AAPL, ORCL, NVDA\n"
     ]
    }
   ],
   "source": [
    "%run data_cleaning_formatting.ipynb"
   ]
  },
  {
   "cell_type": "code",
   "execution_count": 5,
   "id": "162b4273",
   "metadata": {},
   "outputs": [],
   "source": [
    "# Note: here we make sure that all analysis is done on stock's data, not including market index:\n",
    "list_copy = list_copy[0:3]"
   ]
  },
  {
   "cell_type": "markdown",
   "id": "c9d7b3aa",
   "metadata": {},
   "source": [
    "# Model 1: CAPM (Capital Asset Pricing Model)\n",
    "\n",
    "$$ E(R_i) = R_f + \\beta_i (E(R_m) - R_f) $$\n",
    "\n",
    "\n",
    "\n",
    "\n",
    "- CAPM is a financial model used to determine the expected return on an asset based on its systematic risk (beta). It asserts that the only compensation for bearing risk is the risk associated with the overall market, not individual securities. \n",
    "\n",
    "\n",
    "\n",
    "- In essence, CAPM calculates the return an investor should expect to receive on an asset given its risk relative to the market.\n"
   ]
  },
  {
   "cell_type": "markdown",
   "id": "edc6ff08",
   "metadata": {},
   "source": [
    "### Stockwise expected return:"
   ]
  },
  {
   "cell_type": "code",
   "execution_count": 6,
   "id": "cdcc1bad",
   "metadata": {},
   "outputs": [],
   "source": [
    "# Finding the expected stocks return under CAPM:\n",
    "\n",
    "return_list = {}\n",
    "\n",
    "ave_rf = final_data['rf'].mean()\n",
    "beta_dict = get_beta('capm', final_data, list_copy)\n",
    "ave_mkt = final_data['mkt_ex_return'].mean()\n",
    "\n",
    "for i in list_copy:\n",
    "    beta = beta_dict[i]['mkt_ex_return']\n",
    "    expected_return = ave_rf + beta * (ave_mkt)\n",
    "    return_list[i] = expected_return"
   ]
  },
  {
   "cell_type": "code",
   "execution_count": 7,
   "id": "5031cb21",
   "metadata": {
    "scrolled": false
   },
   "outputs": [
    {
     "data": {
      "text/plain": [
       "{'AAPL': 0.003941674391109033,\n",
       " 'ORCL': -0.015051819391131843,\n",
       " 'NVDA': -0.05895973425377142}"
      ]
     },
     "execution_count": 7,
     "metadata": {},
     "output_type": "execute_result"
    }
   ],
   "source": [
    "return_list"
   ]
  },
  {
   "cell_type": "markdown",
   "id": "aeffeb85",
   "metadata": {},
   "source": [
    "### Equally Weighted Portfolio expected return:"
   ]
  },
  {
   "cell_type": "code",
   "execution_count": 8,
   "id": "19b5f288",
   "metadata": {},
   "outputs": [
    {
     "data": {
      "text/plain": [
       "-0.023356626417931414"
      ]
     },
     "execution_count": 8,
     "metadata": {},
     "output_type": "execute_result"
    }
   ],
   "source": [
    "port_return1 = sum(return_list.values()) / len(return_list)\n",
    "port_return1"
   ]
  },
  {
   "cell_type": "markdown",
   "id": "14d0225a",
   "metadata": {},
   "source": [
    "# Model 2: Fama-French Three-Factor Model:\n",
    "\n",
    "$$ R_i - R_f = \\alpha + \\beta_m (R_m - R_f) + \\beta_s \\times SMB + \\beta_v \\times HML + \\epsilon $$\n",
    "\n",
    "\n",
    "- Building on the CAPM, Eugene Fama and Kenneth French introduced a three-factor model to better explain stock returns. They posited that two additional factors, size and value, can predict stock returns better than market risk alone."
   ]
  },
  {
   "cell_type": "markdown",
   "id": "c333774b",
   "metadata": {},
   "source": [
    "### Stockwise expected return:"
   ]
  },
  {
   "cell_type": "code",
   "execution_count": 9,
   "id": "ed80856d",
   "metadata": {},
   "outputs": [],
   "source": [
    "# Finding the expected stocks return under Fama-French's model:\n",
    "\n",
    "return_list2 = {}\n",
    "\n",
    "beta_dict = get_beta('fama', final_data, list_copy)\n",
    "ave_HML = final_data['HML'].mean()\n",
    "ave_SMB = final_data['SMB'].mean()\n",
    "\n",
    "for i in list_copy:\n",
    "    beta_mkt = beta_dict[i]['mkt_ex_return']\n",
    "    beta_hml = beta_dict[i]['HML']\n",
    "    beta_smb = beta_dict[i]['SMB']\n",
    "\n",
    "    expected_return = ave_rf + beta_mkt * (ave_mkt) + beta_hml * ave_HML + beta_smb * ave_SMB\n",
    "    return_list2[i] = expected_return\n",
    "    "
   ]
  },
  {
   "cell_type": "code",
   "execution_count": 10,
   "id": "a7a5438d",
   "metadata": {
    "scrolled": true
   },
   "outputs": [
    {
     "data": {
      "text/plain": [
       "{'AAPL': 0.00512364835074055,\n",
       " 'ORCL': -0.01730486874728882,\n",
       " 'NVDA': -0.06325069106474561}"
      ]
     },
     "execution_count": 10,
     "metadata": {},
     "output_type": "execute_result"
    }
   ],
   "source": [
    "return_list2"
   ]
  },
  {
   "cell_type": "markdown",
   "id": "026fade3",
   "metadata": {},
   "source": [
    "### Equally Weighted Portfolio expected return:"
   ]
  },
  {
   "cell_type": "code",
   "execution_count": 11,
   "id": "88dad942",
   "metadata": {},
   "outputs": [
    {
     "data": {
      "text/plain": [
       "-0.02514397048709796"
      ]
     },
     "execution_count": 11,
     "metadata": {},
     "output_type": "execute_result"
    }
   ],
   "source": [
    "port_return2 = sum(return_list2.values()) / len(return_list2)\n",
    "port_return2"
   ]
  },
  {
   "cell_type": "markdown",
   "id": "9278ccd7",
   "metadata": {},
   "source": [
    "# Model 3: Momentum Factor Model:\n",
    "$$\n",
    "\\text{Expected Return} = \\alpha + \\beta_{\\text{Mkt}}(\\text{Mkt-RF}) + \\beta_{\\text{SMB}}(\\text{SMB}) + \\beta_{\\text{HML}}(\\text{HML}) + \\beta_{\\text{Mom}}(\\text{Mom}) + \\epsilon\n",
    "$$\n",
    "\n",
    "\n",
    "- Momentum, as a factor, builds on the idea that stocks which have performed well in the past tend to continue performing well, and vice versa. The momentum factor model adds a momentum factor on top of the original Fama-French Three-Factor Model."
   ]
  },
  {
   "cell_type": "markdown",
   "id": "f48c3b3e",
   "metadata": {},
   "source": [
    "### Stockwise expected return:"
   ]
  },
  {
   "cell_type": "code",
   "execution_count": 12,
   "id": "9d729546",
   "metadata": {},
   "outputs": [],
   "source": [
    "# Finding the expected stocks return under Momentum model:\n",
    "\n",
    "return_list3 = {}\n",
    "\n",
    "beta_dict = get_beta('momentum', final_data, list_copy)\n",
    "ave_HML = final_data['HML'].mean()\n",
    "ave_SMB = final_data['SMB'].mean()\n",
    "ave_Mom = final_data['Mom'].mean()\n",
    "\n",
    "for i in list_copy:\n",
    "    beta_mkt = beta_dict[i]['mkt_ex_return']\n",
    "    beta_hml = beta_dict[i]['HML']\n",
    "    beta_smb = beta_dict[i]['SMB']\n",
    "    beta_mom = beta_dict[i]['Mom']\n",
    "    \n",
    "    expected_return = ave_rf + beta_mkt * (ave_mkt) + beta_hml * ave_HML + beta_smb * ave_SMB + beta_mom * ave_Mom\n",
    "    return_list3[i] = expected_return"
   ]
  },
  {
   "cell_type": "code",
   "execution_count": 13,
   "id": "8bf098c0",
   "metadata": {},
   "outputs": [
    {
     "data": {
      "text/plain": [
       "{'AAPL': 0.004504944283780097,\n",
       " 'ORCL': -0.02040018237267989,\n",
       " 'NVDA': -0.0762925835635979}"
      ]
     },
     "execution_count": 13,
     "metadata": {},
     "output_type": "execute_result"
    }
   ],
   "source": [
    "return_list3"
   ]
  },
  {
   "cell_type": "markdown",
   "id": "ac7d959c",
   "metadata": {},
   "source": [
    "### Equally Weighted Portfolio expected return:"
   ]
  },
  {
   "cell_type": "code",
   "execution_count": 14,
   "id": "6eff412d",
   "metadata": {
    "scrolled": true
   },
   "outputs": [
    {
     "data": {
      "text/plain": [
       "-0.030729273884165898"
      ]
     },
     "execution_count": 14,
     "metadata": {},
     "output_type": "execute_result"
    }
   ],
   "source": [
    "port_return3 = sum(return_list3.values()) / len(return_list3)\n",
    "port_return3"
   ]
  },
  {
   "cell_type": "markdown",
   "id": "d63219d9",
   "metadata": {},
   "source": [
    "# Plots And Discussion:"
   ]
  },
  {
   "cell_type": "code",
   "execution_count": 15,
   "id": "4adcc924",
   "metadata": {},
   "outputs": [
    {
     "data": {
      "image/png": "[encoded data removed]",
      "text/plain": [
       "<Figure size 1200x700 with 1 Axes>"
      ]
     },
     "metadata": {},
     "output_type": "display_data"
    }
   ],
   "source": [
    "# Grouping by stocks:\n",
    "df_capm = pd.DataFrame(list(return_list.items()), columns=['Stock', 'CAPM'])\n",
    "df_fama = pd.DataFrame(list(return_list2.items()), columns=['Stock', 'Fama'])\n",
    "df_momentum = pd.DataFrame(list(return_list3.items()), columns=['Stock', 'Momentum'])\n",
    "\n",
    "# Build a dataframe that have stocks return seperated under different models:\n",
    "ret_data = df_capm.merge(df_fama, on='Stock').merge(df_momentum, on='Stock')\n",
    "\n",
    "# Creating the plot:\n",
    "ax = ret_data.plot(x='Stock', y=['CAPM', 'Fama', 'Momentum'], kind='bar', figsize=(12,7))\n",
    "plt.title('Expected Returns by Stock across Models')\n",
    "plt.ylabel('Expected Return')\n",
    "plt.xlabel('Stock')\n",
    "plt.axhline(0, color='black',linewidth=0.5)\n",
    "plt.grid(axis='y')\n",
    "\n",
    "# Adding numeric values on top of each data bar:\n",
    "for p in ax.patches:\n",
    "    # For each bar, we want the value to be at the top middle portion of the bar:\n",
    "    ax.annotate(str(round(p.get_height(), 4)), (p.get_x() + p.get_width() / 2., p.get_height()),\n",
    "                ha='center', va='center', xytext=(0, 10), textcoords='offset points')\n",
    "plt.tight_layout()\n",
    "plt.show()"
   ]
  },
  {
   "cell_type": "markdown",
   "id": "1a827533",
   "metadata": {},
   "source": [
    "\n",
    "\n",
    "### **General Analysis:**\n",
    "\n",
    "- **Model Variances by Stock**:  \n",
    "While some stocks can exhibit close expected returns, indicating relative consensus among the models, others can also present a broader range, indicating significant divergence in predictions.\n",
    "\n",
    "- **Consensus and Contention**:  \n",
    "For stocks where the models converge in their predictions, there might be a higher degree of confidence in those expected returns. In contrast, stocks with wide variations across models spotlight areas of contention, possibly stemming from differing views on market risk, stock value, or recent performance trends.\n",
    "\n",
    "- **Dominant Models**:  \n",
    "If one model consistently forecasts higher or lower returns across most stocks, it could indicate a systematic bias in that model, reflecting a more optimistic or conservative outlook.\n",
    "\n",
    "### **Discussion:**\n",
    "\n",
    "- **Model Foundations**:  \n",
    "The differences in expected returns for individual stocks across models emphasize the significance of understanding each model's basis. Recognizing the distinctions in models, from the market-relationship focus of CAPM to Fama's emphasis on company size and value and the Momentum model's look at recent trends, is crucial. With that, we can see why the momentum model present a rather extreme result, in contrast to the other two models predicting a very close expected return.\n",
    "\n",
    "- **Investment Implications**:  \n",
    "These insights can shape investment strategies. A stock with similar expected returns across models might be viewed as a more reliable bet, while stocks with significant model differences might warrant deeper investigation.\n",
    "\n",
    "- **Risk Considerations**:  \n",
    "The range of expected returns for each stock can also be interpreted as a measure of prediction risk, with a narrower range indicating lower risk and a broader range suggesting higher uncertainty.\n",
    "\n",
    "### **Conclusion:**\n",
    "\n",
    "The analysis for the expected return can possibly offers a comprehensive view on the stock returns itself. By using the predictions from CAPM, Fama's model, and the Momentum model, investor can see that result as a benchmark return for their own investment. However, even though these models can potentially provide valuable guidance based on historical data and theoretical constructs, one may not forget to use a balanced approach, factoring in both model predictions and other analyses, to ensures a well-rounded investment strategy.\n",
    "\n"
   ]
  },
  {
   "cell_type": "markdown",
   "id": "a97d9141",
   "metadata": {},
   "source": [
    "---\n",
    "### **Thank you for exploring this part!**  \n",
    "Dive deeper into portfolio optimization strategies in [`Fin model simulator (Part 2).ipynb`](https://github.com/andylhyl/FinModelPortfolioSimulator/blob/main/Fin%20model%20simulator%20(Part%202%EF%BC%89.ipynb).\n",
    "\n",
    "\n",
    "---"
   ]
  }
 ],
 "metadata": {
  "kernelspec": {
   "display_name": "Python 3 (ipykernel)",
   "language": "python",
   "name": "python3"
  },
  "language_info": {
   "codemirror_mode": {
    "name": "ipython",
    "version": 3
   },
   "file_extension": ".py",
   "mimetype": "text/x-python",
   "name": "python",
   "nbconvert_exporter": "python",
   "pygments_lexer": "ipython3",
   "version": "3.10.9"
  }
 },
 "nbformat": 4,
 "nbformat_minor": 5
}
